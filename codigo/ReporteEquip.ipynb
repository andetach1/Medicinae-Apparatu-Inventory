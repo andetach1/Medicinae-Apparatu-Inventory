{
 "cells": [
  {
   "cell_type": "code",
   "execution_count": null,
   "metadata": {
    "collapsed": true
   },
   "outputs": [],
   "source": [
    "from tkinter import *\n",
    "\n",
    "\n",
    "root = Tk()\n",
    "root.state(\"zoomed\")\n",
    "root.geometry(\"900x600\")\n",
    "root.title(\"Medicinae Apparatu Inventory\")\n",
    "root.iconbitmap('med.ico')\n",
    "root.config(cursor=\"hand2\",bg=\"#f0f0f0\")\n",
    "\n",
    "#Frame informacion del cliente \n",
    "informacion = Frame(root, width=900, height=40,bg=\"#650090\",bd=3, relief=\"groove\").pack(fill='x')\n",
    "\n",
    "#Nombre de la empresa dentro del frame\n",
    "nombre_cliente = Label(informacion, text=\"Harold Emmanuel Navas\")\n",
    "nombre_cliente.place(x=4,y=6)\n",
    "nombre_cliente.config(bg=\"#650090\", fg=\"white\", font=(\"Courier New\",13))\n",
    "\n",
    "navegacion_inferior = Frame(root, width=400, height= 35)\n",
    "navegacion_inferior.pack(side=\"bottom\",fill='x')\n",
    "navegacion_inferior.config(bg=\"#650090\", relief=\"groove\")\n",
    "\n",
    "botton_hoja_vida = Button(navegacion_inferior, text=\"Hojas de Vida\", relief=\"flat\")\n",
    "botton_hoja_vida.place(x=10, y=1)\n",
    "botton_hoja_vida.config(bg=\"#650090\", fg=\"white\",font=(\"Courier New\",13))\n",
    "\n",
    "botton_ordenes_compra = Button(navegacion_inferior, text=\"Ordenes de compra\", relief=\"flat\")\n",
    "botton_ordenes_compra.place(x=200, y=1)\n",
    "botton_ordenes_compra.config(bg=\"#650090\", fg=\"white\",font=(\"Courier New\",13))\n",
    "\n",
    "botton_Activos_fijos = Button(navegacion_inferior, text=\"Activos Fijos\", relief=\"flat\")\n",
    "botton_Activos_fijos.place(x=500, y=1)\n",
    "botton_Activos_fijos.config(bg=\"#650090\", fg=\"white\",font=(\"Courier New\",13))\n",
    "\n",
    "root.mainloop()"
   ]
  }
 ],
 "metadata": {
  "kernelspec": {
   "display_name": "Python 3",
   "language": "python",
   "name": "python3"
  },
  "language_info": {
   "codemirror_mode": {
    "name": "ipython",
    "version": 3
   },
   "file_extension": ".py",
   "mimetype": "text/x-python",
   "name": "python",
   "nbconvert_exporter": "python",
   "pygments_lexer": "ipython3",
   "version": "3.6.3"
  }
 },
 "nbformat": 4,
 "nbformat_minor": 2
}
